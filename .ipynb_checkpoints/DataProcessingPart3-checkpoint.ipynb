{
 "cells": [
  {
   "cell_type": "markdown",
   "id": "6817c136",
   "metadata": {},
   "source": [
    "**Data For 2018** "
   ]
  },
  {
   "cell_type": "code",
   "execution_count": 1,
   "id": "154967ff",
   "metadata": {},
   "outputs": [],
   "source": [
    "from pyforest import *"
   ]
  },
  {
   "cell_type": "code",
   "execution_count": 2,
   "id": "331234a5",
   "metadata": {},
   "outputs": [
    {
     "data": {
      "application/javascript": [
       "\n",
       "        if (window._pyforest_update_imports_cell) { window._pyforest_update_imports_cell('import pandas as pd'); }\n",
       "    "
      ],
      "text/plain": [
       "<IPython.core.display.Javascript object>"
      ]
     },
     "metadata": {},
     "output_type": "display_data"
    },
    {
     "data": {
      "application/javascript": [
       "\n",
       "        if (window._pyforest_update_imports_cell) { window._pyforest_update_imports_cell('import pandas as pd'); }\n",
       "    "
      ],
      "text/plain": [
       "<IPython.core.display.Javascript object>"
      ]
     },
     "metadata": {},
     "output_type": "display_data"
    },
    {
     "data": {
      "application/javascript": [
       "\n",
       "        if (window._pyforest_update_imports_cell) { window._pyforest_update_imports_cell('import pandas as pd'); }\n",
       "    "
      ],
      "text/plain": [
       "<IPython.core.display.Javascript object>"
      ]
     },
     "metadata": {},
     "output_type": "display_data"
    },
    {
     "data": {
      "application/javascript": [
       "\n",
       "        if (window._pyforest_update_imports_cell) { window._pyforest_update_imports_cell('import pandas as pd'); }\n",
       "    "
      ],
      "text/plain": [
       "<IPython.core.display.Javascript object>"
      ]
     },
     "metadata": {},
     "output_type": "display_data"
    }
   ],
   "source": [
    "link = \"https://en.wikipedia.org/wiki/List_of_American_films_of_2018\"\n",
    "df1 = pd.read_html(link, header=0)[2]\n",
    "df2 = pd.read_html(link, header=0)[3]\n",
    "df3 = pd.read_html(link, header=0)[4]\n",
    "df4 = pd.read_html(link, header=0)[5]"
   ]
  },
  {
   "cell_type": "code",
   "execution_count": 3,
   "id": "c191987b",
   "metadata": {},
   "outputs": [
    {
     "data": {
      "text/html": [
       "<div>\n",
       "<style scoped>\n",
       "    .dataframe tbody tr th:only-of-type {\n",
       "        vertical-align: middle;\n",
       "    }\n",
       "\n",
       "    .dataframe tbody tr th {\n",
       "        vertical-align: top;\n",
       "    }\n",
       "\n",
       "    .dataframe thead th {\n",
       "        text-align: right;\n",
       "    }\n",
       "</style>\n",
       "<table border=\"1\" class=\"dataframe\">\n",
       "  <thead>\n",
       "    <tr style=\"text-align: right;\">\n",
       "      <th></th>\n",
       "      <th>Opening</th>\n",
       "      <th>Opening.1</th>\n",
       "      <th>Title</th>\n",
       "      <th>Production company</th>\n",
       "      <th>Cast and crew</th>\n",
       "      <th>.mw-parser-output .tooltip-dotted{border-bottom:1px dotted;cursor:help}Ref.</th>\n",
       "    </tr>\n",
       "  </thead>\n",
       "  <tbody>\n",
       "    <tr>\n",
       "      <th>0</th>\n",
       "      <td>JANUARY</td>\n",
       "      <td>5</td>\n",
       "      <td>Insidious: The Last Key</td>\n",
       "      <td>Universal Pictures / Blumhouse Productions / S...</td>\n",
       "      <td>Adam Robitel (director); Leigh Whannell (scree...</td>\n",
       "      <td>[2]</td>\n",
       "    </tr>\n",
       "    <tr>\n",
       "      <th>1</th>\n",
       "      <td>JANUARY</td>\n",
       "      <td>5</td>\n",
       "      <td>The Strange Ones</td>\n",
       "      <td>Vertical Entertainment</td>\n",
       "      <td>Lauren Wolkstein (director); Christopher Radcl...</td>\n",
       "      <td>[3]</td>\n",
       "    </tr>\n",
       "    <tr>\n",
       "      <th>2</th>\n",
       "      <td>JANUARY</td>\n",
       "      <td>5</td>\n",
       "      <td>Stratton</td>\n",
       "      <td>Momentum Pictures</td>\n",
       "      <td>Simon West (director); Duncan Falconer, Warren...</td>\n",
       "      <td>[4]</td>\n",
       "    </tr>\n",
       "    <tr>\n",
       "      <th>3</th>\n",
       "      <td>JANUARY</td>\n",
       "      <td>10</td>\n",
       "      <td>Sweet Country</td>\n",
       "      <td>Samuel Goldwyn Films</td>\n",
       "      <td>Warwick Thornton (director); David Tranter, St...</td>\n",
       "      <td>[5]</td>\n",
       "    </tr>\n",
       "    <tr>\n",
       "      <th>4</th>\n",
       "      <td>JANUARY</td>\n",
       "      <td>12</td>\n",
       "      <td>The Commuter</td>\n",
       "      <td>Lionsgate / StudioCanal / The Picture Company</td>\n",
       "      <td>Jaume Collet-Serra (director); Byron Willinger...</td>\n",
       "      <td>[6]</td>\n",
       "    </tr>\n",
       "    <tr>\n",
       "      <th>...</th>\n",
       "      <td>...</td>\n",
       "      <td>...</td>\n",
       "      <td>...</td>\n",
       "      <td>...</td>\n",
       "      <td>...</td>\n",
       "      <td>...</td>\n",
       "    </tr>\n",
       "    <tr>\n",
       "      <th>69</th>\n",
       "      <td>MARCH</td>\n",
       "      <td>29</td>\n",
       "      <td>Ready Player One</td>\n",
       "      <td>Warner Bros. Pictures / Village Roadshow Pictu...</td>\n",
       "      <td>Steven Spielberg (director); Ernest Cline, Zak...</td>\n",
       "      <td>[71]</td>\n",
       "    </tr>\n",
       "    <tr>\n",
       "      <th>70</th>\n",
       "      <td>MARCH</td>\n",
       "      <td>30</td>\n",
       "      <td>Tyler Perry's Acrimony</td>\n",
       "      <td>Lionsgate / Tyler Perry Films</td>\n",
       "      <td>Tyler Perry (director/screenplay); Taraji P. H...</td>\n",
       "      <td>[72]</td>\n",
       "    </tr>\n",
       "    <tr>\n",
       "      <th>71</th>\n",
       "      <td>MARCH</td>\n",
       "      <td>30</td>\n",
       "      <td>God's Not Dead: A Light in Darkness</td>\n",
       "      <td>Pure Flix</td>\n",
       "      <td>Michael Mason (director/screenplay); David A. ...</td>\n",
       "      <td>[73]</td>\n",
       "    </tr>\n",
       "    <tr>\n",
       "      <th>72</th>\n",
       "      <td>MARCH</td>\n",
       "      <td>30</td>\n",
       "      <td>Gemini</td>\n",
       "      <td>Neon</td>\n",
       "      <td>Aaron Katz (director/screenplay); Lola Kirke, ...</td>\n",
       "      <td>[74]</td>\n",
       "    </tr>\n",
       "    <tr>\n",
       "      <th>73</th>\n",
       "      <td>MARCH</td>\n",
       "      <td>30</td>\n",
       "      <td>The Last Movie Star</td>\n",
       "      <td>A24</td>\n",
       "      <td>Adam Rifkin (director/screenplay); Burt Reynol...</td>\n",
       "      <td>[75]</td>\n",
       "    </tr>\n",
       "  </tbody>\n",
       "</table>\n",
       "<p>74 rows × 6 columns</p>\n",
       "</div>"
      ],
      "text/plain": [
       "    Opening  Opening.1                                Title  \\\n",
       "0   JANUARY          5              Insidious: The Last Key   \n",
       "1   JANUARY          5                     The Strange Ones   \n",
       "2   JANUARY          5                             Stratton   \n",
       "3   JANUARY         10                        Sweet Country   \n",
       "4   JANUARY         12                         The Commuter   \n",
       "..      ...        ...                                  ...   \n",
       "69    MARCH         29                     Ready Player One   \n",
       "70    MARCH         30               Tyler Perry's Acrimony   \n",
       "71    MARCH         30  God's Not Dead: A Light in Darkness   \n",
       "72    MARCH         30                               Gemini   \n",
       "73    MARCH         30                  The Last Movie Star   \n",
       "\n",
       "                                   Production company  \\\n",
       "0   Universal Pictures / Blumhouse Productions / S...   \n",
       "1                              Vertical Entertainment   \n",
       "2                                   Momentum Pictures   \n",
       "3                                Samuel Goldwyn Films   \n",
       "4       Lionsgate / StudioCanal / The Picture Company   \n",
       "..                                                ...   \n",
       "69  Warner Bros. Pictures / Village Roadshow Pictu...   \n",
       "70                      Lionsgate / Tyler Perry Films   \n",
       "71                                          Pure Flix   \n",
       "72                                               Neon   \n",
       "73                                                A24   \n",
       "\n",
       "                                        Cast and crew  \\\n",
       "0   Adam Robitel (director); Leigh Whannell (scree...   \n",
       "1   Lauren Wolkstein (director); Christopher Radcl...   \n",
       "2   Simon West (director); Duncan Falconer, Warren...   \n",
       "3   Warwick Thornton (director); David Tranter, St...   \n",
       "4   Jaume Collet-Serra (director); Byron Willinger...   \n",
       "..                                                ...   \n",
       "69  Steven Spielberg (director); Ernest Cline, Zak...   \n",
       "70  Tyler Perry (director/screenplay); Taraji P. H...   \n",
       "71  Michael Mason (director/screenplay); David A. ...   \n",
       "72  Aaron Katz (director/screenplay); Lola Kirke, ...   \n",
       "73  Adam Rifkin (director/screenplay); Burt Reynol...   \n",
       "\n",
       "   .mw-parser-output .tooltip-dotted{border-bottom:1px dotted;cursor:help}Ref.  \n",
       "0                                                 [2]                           \n",
       "1                                                 [3]                           \n",
       "2                                                 [4]                           \n",
       "3                                                 [5]                           \n",
       "4                                                 [6]                           \n",
       "..                                                ...                           \n",
       "69                                               [71]                           \n",
       "70                                               [72]                           \n",
       "71                                               [73]                           \n",
       "72                                               [74]                           \n",
       "73                                               [75]                           \n",
       "\n",
       "[74 rows x 6 columns]"
      ]
     },
     "execution_count": 3,
     "metadata": {},
     "output_type": "execute_result"
    }
   ],
   "source": [
    "df1"
   ]
  },
  {
   "cell_type": "code",
   "execution_count": 5,
   "id": "eaa28f1f",
   "metadata": {},
   "outputs": [
    {
     "name": "stderr",
     "output_type": "stream",
     "text": [
      "C:\\Users\\moon  comp\\AppData\\Local\\Temp\\ipykernel_392\\3617246550.py:1: FutureWarning: The frame.append method is deprecated and will be removed from pandas in a future version. Use pandas.concat instead.\n",
      "  df=df1.append(df2.append(df3.append(df4,ignore_index=True),ignore_index=True),ignore_index=True)\n"
     ]
    }
   ],
   "source": [
    "df=df1.append(df2.append(df3.append(df4,ignore_index=True),ignore_index=True),ignore_index=True)"
   ]
  },
  {
   "cell_type": "code",
   "execution_count": 8,
   "id": "0c345718",
   "metadata": {},
   "outputs": [],
   "source": [
    "df.drop(['.mw-parser-output .tooltip-dotted{border-bottom:1px dotted;cursor:help}Ref.','Ref.'],axis=1,inplace=True)"
   ]
  },
  {
   "cell_type": "code",
   "execution_count": 9,
   "id": "3becb357",
   "metadata": {},
   "outputs": [
    {
     "data": {
      "text/html": [
       "<div>\n",
       "<style scoped>\n",
       "    .dataframe tbody tr th:only-of-type {\n",
       "        vertical-align: middle;\n",
       "    }\n",
       "\n",
       "    .dataframe tbody tr th {\n",
       "        vertical-align: top;\n",
       "    }\n",
       "\n",
       "    .dataframe thead th {\n",
       "        text-align: right;\n",
       "    }\n",
       "</style>\n",
       "<table border=\"1\" class=\"dataframe\">\n",
       "  <thead>\n",
       "    <tr style=\"text-align: right;\">\n",
       "      <th></th>\n",
       "      <th>Opening</th>\n",
       "      <th>Opening.1</th>\n",
       "      <th>Title</th>\n",
       "      <th>Production company</th>\n",
       "      <th>Cast and crew</th>\n",
       "    </tr>\n",
       "  </thead>\n",
       "  <tbody>\n",
       "    <tr>\n",
       "      <th>0</th>\n",
       "      <td>JANUARY</td>\n",
       "      <td>5</td>\n",
       "      <td>Insidious: The Last Key</td>\n",
       "      <td>Universal Pictures / Blumhouse Productions / S...</td>\n",
       "      <td>Adam Robitel (director); Leigh Whannell (scree...</td>\n",
       "    </tr>\n",
       "    <tr>\n",
       "      <th>1</th>\n",
       "      <td>JANUARY</td>\n",
       "      <td>5</td>\n",
       "      <td>The Strange Ones</td>\n",
       "      <td>Vertical Entertainment</td>\n",
       "      <td>Lauren Wolkstein (director); Christopher Radcl...</td>\n",
       "    </tr>\n",
       "    <tr>\n",
       "      <th>2</th>\n",
       "      <td>JANUARY</td>\n",
       "      <td>5</td>\n",
       "      <td>Stratton</td>\n",
       "      <td>Momentum Pictures</td>\n",
       "      <td>Simon West (director); Duncan Falconer, Warren...</td>\n",
       "    </tr>\n",
       "    <tr>\n",
       "      <th>3</th>\n",
       "      <td>JANUARY</td>\n",
       "      <td>10</td>\n",
       "      <td>Sweet Country</td>\n",
       "      <td>Samuel Goldwyn Films</td>\n",
       "      <td>Warwick Thornton (director); David Tranter, St...</td>\n",
       "    </tr>\n",
       "    <tr>\n",
       "      <th>4</th>\n",
       "      <td>JANUARY</td>\n",
       "      <td>12</td>\n",
       "      <td>The Commuter</td>\n",
       "      <td>Lionsgate / StudioCanal / The Picture Company</td>\n",
       "      <td>Jaume Collet-Serra (director); Byron Willinger...</td>\n",
       "    </tr>\n",
       "    <tr>\n",
       "      <th>...</th>\n",
       "      <td>...</td>\n",
       "      <td>...</td>\n",
       "      <td>...</td>\n",
       "      <td>...</td>\n",
       "      <td>...</td>\n",
       "    </tr>\n",
       "    <tr>\n",
       "      <th>269</th>\n",
       "      <td>DECEMBER</td>\n",
       "      <td>25</td>\n",
       "      <td>Holmes &amp; Watson</td>\n",
       "      <td>Columbia Pictures / Gary Sanchez Productions</td>\n",
       "      <td>Etan Cohen (director/screenplay); Will Ferrell...</td>\n",
       "    </tr>\n",
       "    <tr>\n",
       "      <th>270</th>\n",
       "      <td>DECEMBER</td>\n",
       "      <td>25</td>\n",
       "      <td>Vice</td>\n",
       "      <td>Annapurna Pictures / Plan B Entertainment</td>\n",
       "      <td>Adam McKay (director/screenplay); Christian Ba...</td>\n",
       "    </tr>\n",
       "    <tr>\n",
       "      <th>271</th>\n",
       "      <td>DECEMBER</td>\n",
       "      <td>25</td>\n",
       "      <td>On the Basis of Sex</td>\n",
       "      <td>Focus Features</td>\n",
       "      <td>Mimi Leder (director); Daniel Stiepleman (scre...</td>\n",
       "    </tr>\n",
       "    <tr>\n",
       "      <th>272</th>\n",
       "      <td>DECEMBER</td>\n",
       "      <td>25</td>\n",
       "      <td>Destroyer</td>\n",
       "      <td>Annapurna Pictures</td>\n",
       "      <td>Karyn Kusama (director); Phil Hay, Matt Manfre...</td>\n",
       "    </tr>\n",
       "    <tr>\n",
       "      <th>273</th>\n",
       "      <td>DECEMBER</td>\n",
       "      <td>28</td>\n",
       "      <td>Black Mirror: Bandersnatch</td>\n",
       "      <td>Netflix</td>\n",
       "      <td>David Slade (director); Charlie Brooker (scree...</td>\n",
       "    </tr>\n",
       "  </tbody>\n",
       "</table>\n",
       "<p>274 rows × 5 columns</p>\n",
       "</div>"
      ],
      "text/plain": [
       "      Opening  Opening.1                       Title  \\\n",
       "0     JANUARY          5     Insidious: The Last Key   \n",
       "1     JANUARY          5            The Strange Ones   \n",
       "2     JANUARY          5                    Stratton   \n",
       "3     JANUARY         10               Sweet Country   \n",
       "4     JANUARY         12                The Commuter   \n",
       "..        ...        ...                         ...   \n",
       "269  DECEMBER         25             Holmes & Watson   \n",
       "270  DECEMBER         25                        Vice   \n",
       "271  DECEMBER         25         On the Basis of Sex   \n",
       "272  DECEMBER         25                   Destroyer   \n",
       "273  DECEMBER         28  Black Mirror: Bandersnatch   \n",
       "\n",
       "                                    Production company  \\\n",
       "0    Universal Pictures / Blumhouse Productions / S...   \n",
       "1                               Vertical Entertainment   \n",
       "2                                    Momentum Pictures   \n",
       "3                                 Samuel Goldwyn Films   \n",
       "4        Lionsgate / StudioCanal / The Picture Company   \n",
       "..                                                 ...   \n",
       "269       Columbia Pictures / Gary Sanchez Productions   \n",
       "270          Annapurna Pictures / Plan B Entertainment   \n",
       "271                                     Focus Features   \n",
       "272                                 Annapurna Pictures   \n",
       "273                                            Netflix   \n",
       "\n",
       "                                         Cast and crew  \n",
       "0    Adam Robitel (director); Leigh Whannell (scree...  \n",
       "1    Lauren Wolkstein (director); Christopher Radcl...  \n",
       "2    Simon West (director); Duncan Falconer, Warren...  \n",
       "3    Warwick Thornton (director); David Tranter, St...  \n",
       "4    Jaume Collet-Serra (director); Byron Willinger...  \n",
       "..                                                 ...  \n",
       "269  Etan Cohen (director/screenplay); Will Ferrell...  \n",
       "270  Adam McKay (director/screenplay); Christian Ba...  \n",
       "271  Mimi Leder (director); Daniel Stiepleman (scre...  \n",
       "272  Karyn Kusama (director); Phil Hay, Matt Manfre...  \n",
       "273  David Slade (director); Charlie Brooker (scree...  \n",
       "\n",
       "[274 rows x 5 columns]"
      ]
     },
     "execution_count": 9,
     "metadata": {},
     "output_type": "execute_result"
    }
   ],
   "source": [
    "df"
   ]
  },
  {
   "cell_type": "code",
   "execution_count": 10,
   "id": "cda97c11",
   "metadata": {},
   "outputs": [
    {
     "name": "stdout",
     "output_type": "stream",
     "text": [
      "Collecting tmdbv3api\n",
      "  Downloading tmdbv3api-1.7.7-py2.py3-none-any.whl (18 kB)\n",
      "Requirement already satisfied: requests in c:\\users\\moon  comp\\anaconda3\\lib\\site-packages (from tmdbv3api) (2.27.1)\n",
      "Requirement already satisfied: certifi>=2017.4.17 in c:\\users\\moon  comp\\anaconda3\\lib\\site-packages (from requests->tmdbv3api) (2021.10.8)\n",
      "Requirement already satisfied: idna<4,>=2.5 in c:\\users\\moon  comp\\anaconda3\\lib\\site-packages (from requests->tmdbv3api) (3.3)\n",
      "Requirement already satisfied: charset-normalizer~=2.0.0 in c:\\users\\moon  comp\\anaconda3\\lib\\site-packages (from requests->tmdbv3api) (2.0.4)\n",
      "Requirement already satisfied: urllib3<1.27,>=1.21.1 in c:\\users\\moon  comp\\anaconda3\\lib\\site-packages (from requests->tmdbv3api) (1.26.9)\n",
      "Installing collected packages: tmdbv3api\n",
      "Successfully installed tmdbv3api-1.7.7\n",
      "Note: you may need to restart the kernel to use updated packages.\n"
     ]
    }
   ],
   "source": [
    "pip install tmdbv3api"
   ]
  },
  {
   "cell_type": "code",
   "execution_count": 11,
   "id": "c29bec3f",
   "metadata": {},
   "outputs": [],
   "source": [
    "#get your API Key here: https://www.themoviedb.org/settings/api\n",
    "from tmdbv3api import TMDb\n",
    "import json\n",
    "import requests\n",
    "tmdb = TMDb()\n",
    "tmdb.api_key = '064092644f740eb010524259070a2095' #add your own API key here"
   ]
  },
  {
   "cell_type": "code",
   "execution_count": 12,
   "id": "5a42e200",
   "metadata": {},
   "outputs": [],
   "source": [
    "from tmdbv3api import Movie\n",
    "tmdb_movie = Movie()\n",
    "def get_genre(x): #pass in the title of the movies\n",
    "    genres = []\n",
    "    result = tmdb_movie.search(x) #the title will be searched in the tmdb_movie\n",
    "    movie_id = result[0].id #we will match the \"id\" with the \"title\"\n",
    "    response = requests.get('https://api.themoviedb.org/3/movie/{}?api_key={}'.format(movie_id,tmdb.api_key)) #we will get the result from the IMDb data\n",
    "    data_json = response.json() #we will then convert it to a json file\n",
    "    if data_json['genres']: #in the json file we will only need to extract the \"genre\"\n",
    "        genre_str = \" \" \n",
    "        for i in range(0,len(data_json['genres'])):\n",
    "            genres.append(data_json['genres'][i]['name']) #we will then add the \"genre\" to the empty genre list we created above\n",
    "        return genre_str.join(genres)\n",
    "    else:\n",
    "        np.NaN # we will return the results but if we don't find anything we will consider it as a missing value\n",
    "# https://en.wikipedia.org/wiki/List_of_American_films_of_2018"
   ]
  },
  {
   "cell_type": "code",
   "execution_count": 13,
   "id": "d8209a60",
   "metadata": {},
   "outputs": [
    {
     "data": {
      "application/javascript": [
       "\n",
       "        if (window._pyforest_update_imports_cell) { window._pyforest_update_imports_cell('import numpy as np\\nimport pandas as pd'); }\n",
       "    "
      ],
      "text/plain": [
       "<IPython.core.display.Javascript object>"
      ]
     },
     "metadata": {},
     "output_type": "display_data"
    },
    {
     "data": {
      "application/javascript": [
       "\n",
       "        if (window._pyforest_update_imports_cell) { window._pyforest_update_imports_cell('import numpy as np\\nimport pandas as pd'); }\n",
       "    "
      ],
      "text/plain": [
       "<IPython.core.display.Javascript object>"
      ]
     },
     "metadata": {},
     "output_type": "display_data"
    },
    {
     "data": {
      "text/html": [
       "<div>\n",
       "<style scoped>\n",
       "    .dataframe tbody tr th:only-of-type {\n",
       "        vertical-align: middle;\n",
       "    }\n",
       "\n",
       "    .dataframe tbody tr th {\n",
       "        vertical-align: top;\n",
       "    }\n",
       "\n",
       "    .dataframe thead th {\n",
       "        text-align: right;\n",
       "    }\n",
       "</style>\n",
       "<table border=\"1\" class=\"dataframe\">\n",
       "  <thead>\n",
       "    <tr style=\"text-align: right;\">\n",
       "      <th></th>\n",
       "      <th>Opening</th>\n",
       "      <th>Opening.1</th>\n",
       "      <th>Title</th>\n",
       "      <th>Production company</th>\n",
       "      <th>Cast and crew</th>\n",
       "      <th>genres</th>\n",
       "    </tr>\n",
       "  </thead>\n",
       "  <tbody>\n",
       "    <tr>\n",
       "      <th>0</th>\n",
       "      <td>JANUARY</td>\n",
       "      <td>5</td>\n",
       "      <td>Insidious: The Last Key</td>\n",
       "      <td>Universal Pictures / Blumhouse Productions / S...</td>\n",
       "      <td>Adam Robitel (director); Leigh Whannell (scree...</td>\n",
       "      <td>Horror Mystery Thriller</td>\n",
       "    </tr>\n",
       "    <tr>\n",
       "      <th>1</th>\n",
       "      <td>JANUARY</td>\n",
       "      <td>5</td>\n",
       "      <td>The Strange Ones</td>\n",
       "      <td>Vertical Entertainment</td>\n",
       "      <td>Lauren Wolkstein (director); Christopher Radcl...</td>\n",
       "      <td>Thriller Drama</td>\n",
       "    </tr>\n",
       "    <tr>\n",
       "      <th>2</th>\n",
       "      <td>JANUARY</td>\n",
       "      <td>5</td>\n",
       "      <td>Stratton</td>\n",
       "      <td>Momentum Pictures</td>\n",
       "      <td>Simon West (director); Duncan Falconer, Warren...</td>\n",
       "      <td>Action Thriller</td>\n",
       "    </tr>\n",
       "    <tr>\n",
       "      <th>3</th>\n",
       "      <td>JANUARY</td>\n",
       "      <td>10</td>\n",
       "      <td>Sweet Country</td>\n",
       "      <td>Samuel Goldwyn Films</td>\n",
       "      <td>Warwick Thornton (director); David Tranter, St...</td>\n",
       "      <td>Western Crime Thriller Drama</td>\n",
       "    </tr>\n",
       "    <tr>\n",
       "      <th>4</th>\n",
       "      <td>JANUARY</td>\n",
       "      <td>12</td>\n",
       "      <td>The Commuter</td>\n",
       "      <td>Lionsgate / StudioCanal / The Picture Company</td>\n",
       "      <td>Jaume Collet-Serra (director); Byron Willinger...</td>\n",
       "      <td>Action Thriller Mystery</td>\n",
       "    </tr>\n",
       "    <tr>\n",
       "      <th>...</th>\n",
       "      <td>...</td>\n",
       "      <td>...</td>\n",
       "      <td>...</td>\n",
       "      <td>...</td>\n",
       "      <td>...</td>\n",
       "      <td>...</td>\n",
       "    </tr>\n",
       "    <tr>\n",
       "      <th>269</th>\n",
       "      <td>DECEMBER</td>\n",
       "      <td>25</td>\n",
       "      <td>Holmes &amp; Watson</td>\n",
       "      <td>Columbia Pictures / Gary Sanchez Productions</td>\n",
       "      <td>Etan Cohen (director/screenplay); Will Ferrell...</td>\n",
       "      <td>Mystery Adventure Comedy Crime</td>\n",
       "    </tr>\n",
       "    <tr>\n",
       "      <th>270</th>\n",
       "      <td>DECEMBER</td>\n",
       "      <td>25</td>\n",
       "      <td>Vice</td>\n",
       "      <td>Annapurna Pictures / Plan B Entertainment</td>\n",
       "      <td>Adam McKay (director/screenplay); Christian Ba...</td>\n",
       "      <td>Thriller Science Fiction Action Adventure</td>\n",
       "    </tr>\n",
       "    <tr>\n",
       "      <th>271</th>\n",
       "      <td>DECEMBER</td>\n",
       "      <td>25</td>\n",
       "      <td>On the Basis of Sex</td>\n",
       "      <td>Focus Features</td>\n",
       "      <td>Mimi Leder (director); Daniel Stiepleman (scre...</td>\n",
       "      <td>Drama History</td>\n",
       "    </tr>\n",
       "    <tr>\n",
       "      <th>272</th>\n",
       "      <td>DECEMBER</td>\n",
       "      <td>25</td>\n",
       "      <td>Destroyer</td>\n",
       "      <td>Annapurna Pictures</td>\n",
       "      <td>Karyn Kusama (director); Phil Hay, Matt Manfre...</td>\n",
       "      <td>Thriller Crime Drama Action</td>\n",
       "    </tr>\n",
       "    <tr>\n",
       "      <th>273</th>\n",
       "      <td>DECEMBER</td>\n",
       "      <td>28</td>\n",
       "      <td>Black Mirror: Bandersnatch</td>\n",
       "      <td>Netflix</td>\n",
       "      <td>David Slade (director); Charlie Brooker (scree...</td>\n",
       "      <td>Science Fiction Mystery Drama Thriller TV Movie</td>\n",
       "    </tr>\n",
       "  </tbody>\n",
       "</table>\n",
       "<p>274 rows × 6 columns</p>\n",
       "</div>"
      ],
      "text/plain": [
       "      Opening  Opening.1                       Title  \\\n",
       "0     JANUARY          5     Insidious: The Last Key   \n",
       "1     JANUARY          5            The Strange Ones   \n",
       "2     JANUARY          5                    Stratton   \n",
       "3     JANUARY         10               Sweet Country   \n",
       "4     JANUARY         12                The Commuter   \n",
       "..        ...        ...                         ...   \n",
       "269  DECEMBER         25             Holmes & Watson   \n",
       "270  DECEMBER         25                        Vice   \n",
       "271  DECEMBER         25         On the Basis of Sex   \n",
       "272  DECEMBER         25                   Destroyer   \n",
       "273  DECEMBER         28  Black Mirror: Bandersnatch   \n",
       "\n",
       "                                    Production company  \\\n",
       "0    Universal Pictures / Blumhouse Productions / S...   \n",
       "1                               Vertical Entertainment   \n",
       "2                                    Momentum Pictures   \n",
       "3                                 Samuel Goldwyn Films   \n",
       "4        Lionsgate / StudioCanal / The Picture Company   \n",
       "..                                                 ...   \n",
       "269       Columbia Pictures / Gary Sanchez Productions   \n",
       "270          Annapurna Pictures / Plan B Entertainment   \n",
       "271                                     Focus Features   \n",
       "272                                 Annapurna Pictures   \n",
       "273                                            Netflix   \n",
       "\n",
       "                                         Cast and crew  \\\n",
       "0    Adam Robitel (director); Leigh Whannell (scree...   \n",
       "1    Lauren Wolkstein (director); Christopher Radcl...   \n",
       "2    Simon West (director); Duncan Falconer, Warren...   \n",
       "3    Warwick Thornton (director); David Tranter, St...   \n",
       "4    Jaume Collet-Serra (director); Byron Willinger...   \n",
       "..                                                 ...   \n",
       "269  Etan Cohen (director/screenplay); Will Ferrell...   \n",
       "270  Adam McKay (director/screenplay); Christian Ba...   \n",
       "271  Mimi Leder (director); Daniel Stiepleman (scre...   \n",
       "272  Karyn Kusama (director); Phil Hay, Matt Manfre...   \n",
       "273  David Slade (director); Charlie Brooker (scree...   \n",
       "\n",
       "                                              genres  \n",
       "0                            Horror Mystery Thriller  \n",
       "1                                     Thriller Drama  \n",
       "2                                    Action Thriller  \n",
       "3                       Western Crime Thriller Drama  \n",
       "4                            Action Thriller Mystery  \n",
       "..                                               ...  \n",
       "269                   Mystery Adventure Comedy Crime  \n",
       "270        Thriller Science Fiction Action Adventure  \n",
       "271                                    Drama History  \n",
       "272                      Thriller Crime Drama Action  \n",
       "273  Science Fiction Mystery Drama Thriller TV Movie  \n",
       "\n",
       "[274 rows x 6 columns]"
      ]
     },
     "execution_count": 13,
     "metadata": {},
     "output_type": "execute_result"
    }
   ],
   "source": [
    "df['genres'] = df['Title'].map(lambda x: get_genre(str(x)))\n",
    "df"
   ]
  },
  {
   "cell_type": "code",
   "execution_count": 14,
   "id": "c69621f7",
   "metadata": {},
   "outputs": [
    {
     "data": {
      "text/html": [
       "<div>\n",
       "<style scoped>\n",
       "    .dataframe tbody tr th:only-of-type {\n",
       "        vertical-align: middle;\n",
       "    }\n",
       "\n",
       "    .dataframe tbody tr th {\n",
       "        vertical-align: top;\n",
       "    }\n",
       "\n",
       "    .dataframe thead th {\n",
       "        text-align: right;\n",
       "    }\n",
       "</style>\n",
       "<table border=\"1\" class=\"dataframe\">\n",
       "  <thead>\n",
       "    <tr style=\"text-align: right;\">\n",
       "      <th></th>\n",
       "      <th>Title</th>\n",
       "      <th>Cast and crew</th>\n",
       "      <th>genres</th>\n",
       "    </tr>\n",
       "  </thead>\n",
       "  <tbody>\n",
       "    <tr>\n",
       "      <th>0</th>\n",
       "      <td>Insidious: The Last Key</td>\n",
       "      <td>Adam Robitel (director); Leigh Whannell (scree...</td>\n",
       "      <td>Horror Mystery Thriller</td>\n",
       "    </tr>\n",
       "    <tr>\n",
       "      <th>1</th>\n",
       "      <td>The Strange Ones</td>\n",
       "      <td>Lauren Wolkstein (director); Christopher Radcl...</td>\n",
       "      <td>Thriller Drama</td>\n",
       "    </tr>\n",
       "    <tr>\n",
       "      <th>2</th>\n",
       "      <td>Stratton</td>\n",
       "      <td>Simon West (director); Duncan Falconer, Warren...</td>\n",
       "      <td>Action Thriller</td>\n",
       "    </tr>\n",
       "    <tr>\n",
       "      <th>3</th>\n",
       "      <td>Sweet Country</td>\n",
       "      <td>Warwick Thornton (director); David Tranter, St...</td>\n",
       "      <td>Western Crime Thriller Drama</td>\n",
       "    </tr>\n",
       "    <tr>\n",
       "      <th>4</th>\n",
       "      <td>The Commuter</td>\n",
       "      <td>Jaume Collet-Serra (director); Byron Willinger...</td>\n",
       "      <td>Action Thriller Mystery</td>\n",
       "    </tr>\n",
       "    <tr>\n",
       "      <th>...</th>\n",
       "      <td>...</td>\n",
       "      <td>...</td>\n",
       "      <td>...</td>\n",
       "    </tr>\n",
       "    <tr>\n",
       "      <th>269</th>\n",
       "      <td>Holmes &amp; Watson</td>\n",
       "      <td>Etan Cohen (director/screenplay); Will Ferrell...</td>\n",
       "      <td>Mystery Adventure Comedy Crime</td>\n",
       "    </tr>\n",
       "    <tr>\n",
       "      <th>270</th>\n",
       "      <td>Vice</td>\n",
       "      <td>Adam McKay (director/screenplay); Christian Ba...</td>\n",
       "      <td>Thriller Science Fiction Action Adventure</td>\n",
       "    </tr>\n",
       "    <tr>\n",
       "      <th>271</th>\n",
       "      <td>On the Basis of Sex</td>\n",
       "      <td>Mimi Leder (director); Daniel Stiepleman (scre...</td>\n",
       "      <td>Drama History</td>\n",
       "    </tr>\n",
       "    <tr>\n",
       "      <th>272</th>\n",
       "      <td>Destroyer</td>\n",
       "      <td>Karyn Kusama (director); Phil Hay, Matt Manfre...</td>\n",
       "      <td>Thriller Crime Drama Action</td>\n",
       "    </tr>\n",
       "    <tr>\n",
       "      <th>273</th>\n",
       "      <td>Black Mirror: Bandersnatch</td>\n",
       "      <td>David Slade (director); Charlie Brooker (scree...</td>\n",
       "      <td>Science Fiction Mystery Drama Thriller TV Movie</td>\n",
       "    </tr>\n",
       "  </tbody>\n",
       "</table>\n",
       "<p>274 rows × 3 columns</p>\n",
       "</div>"
      ],
      "text/plain": [
       "                          Title  \\\n",
       "0       Insidious: The Last Key   \n",
       "1              The Strange Ones   \n",
       "2                      Stratton   \n",
       "3                 Sweet Country   \n",
       "4                  The Commuter   \n",
       "..                          ...   \n",
       "269             Holmes & Watson   \n",
       "270                        Vice   \n",
       "271         On the Basis of Sex   \n",
       "272                   Destroyer   \n",
       "273  Black Mirror: Bandersnatch   \n",
       "\n",
       "                                         Cast and crew  \\\n",
       "0    Adam Robitel (director); Leigh Whannell (scree...   \n",
       "1    Lauren Wolkstein (director); Christopher Radcl...   \n",
       "2    Simon West (director); Duncan Falconer, Warren...   \n",
       "3    Warwick Thornton (director); David Tranter, St...   \n",
       "4    Jaume Collet-Serra (director); Byron Willinger...   \n",
       "..                                                 ...   \n",
       "269  Etan Cohen (director/screenplay); Will Ferrell...   \n",
       "270  Adam McKay (director/screenplay); Christian Ba...   \n",
       "271  Mimi Leder (director); Daniel Stiepleman (scre...   \n",
       "272  Karyn Kusama (director); Phil Hay, Matt Manfre...   \n",
       "273  David Slade (director); Charlie Brooker (scree...   \n",
       "\n",
       "                                              genres  \n",
       "0                            Horror Mystery Thriller  \n",
       "1                                     Thriller Drama  \n",
       "2                                    Action Thriller  \n",
       "3                       Western Crime Thriller Drama  \n",
       "4                            Action Thriller Mystery  \n",
       "..                                               ...  \n",
       "269                   Mystery Adventure Comedy Crime  \n",
       "270        Thriller Science Fiction Action Adventure  \n",
       "271                                    Drama History  \n",
       "272                      Thriller Crime Drama Action  \n",
       "273  Science Fiction Mystery Drama Thriller TV Movie  \n",
       "\n",
       "[274 rows x 3 columns]"
      ]
     },
     "execution_count": 14,
     "metadata": {},
     "output_type": "execute_result"
    }
   ],
   "source": [
    "df_2018 = df[['Title','Cast and crew','genres']]\n",
    "df_2018"
   ]
  },
  {
   "cell_type": "markdown",
   "id": "d2a6a113",
   "metadata": {},
   "source": [
    "**Extract Director**"
   ]
  },
  {
   "cell_type": "code",
   "execution_count": 15,
   "id": "e5e58226",
   "metadata": {},
   "outputs": [],
   "source": [
    "def get_director(x):\n",
    "    if \" (director)\" in x: #we are getting \"director\"\n",
    "        return x.split(\" (director)\")[0]\n",
    "    elif \" (directors)\" in x: #we are getting \"directors\" with \"s\"\n",
    "        return x.split(\" (directors)\")[0]\n",
    "    else:\n",
    "        return x.split(\" (director/screenplay)\")[0] #we are getting \"directors/screenplay\""
   ]
  },
  {
   "cell_type": "code",
   "execution_count": 16,
   "id": "8899d02f",
   "metadata": {},
   "outputs": [
    {
     "name": "stderr",
     "output_type": "stream",
     "text": [
      "C:\\Users\\moon  comp\\AppData\\Local\\Temp\\ipykernel_392\\930721595.py:1: SettingWithCopyWarning: \n",
      "A value is trying to be set on a copy of a slice from a DataFrame.\n",
      "Try using .loc[row_indexer,col_indexer] = value instead\n",
      "\n",
      "See the caveats in the documentation: https://pandas.pydata.org/pandas-docs/stable/user_guide/indexing.html#returning-a-view-versus-a-copy\n",
      "  df_2018['director_name'] = df_2018['Cast and crew'].map(lambda x: get_director(x))\n"
     ]
    }
   ],
   "source": [
    "df_2018['director_name'] = df_2018['Cast and crew'].map(lambda x: get_director(x))"
   ]
  },
  {
   "cell_type": "code",
   "execution_count": 17,
   "id": "04359f7c",
   "metadata": {},
   "outputs": [],
   "source": [
    "def get_actor1(x):\n",
    "    return ((x.split(\"screenplay); \")[-1]).split(\", \")[0])"
   ]
  },
  {
   "cell_type": "code",
   "execution_count": 18,
   "id": "71ed846a",
   "metadata": {},
   "outputs": [],
   "source": [
    "def get_actor2(x):\n",
    "    if len((x.split(\"screenplay); \")[-1]).split(\", \")) < 2:\n",
    "        return np.NaN\n",
    "    else:\n",
    "        return ((x.split(\"screenplay); \")[-1]).split(\", \")[1])"
   ]
  },
  {
   "cell_type": "code",
   "execution_count": 19,
   "id": "20e0bacc",
   "metadata": {},
   "outputs": [],
   "source": [
    "def get_actor3(x):\n",
    "    if len((x.split(\"screenplay); \")[-1]).split(\", \")) < 3:\n",
    "        return np.NaN\n",
    "    else:\n",
    "        return ((x.split(\"screenplay); \")[-1]).split(\", \")[2])"
   ]
  },
  {
   "cell_type": "code",
   "execution_count": 20,
   "id": "d08cdd48",
   "metadata": {},
   "outputs": [
    {
     "data": {
      "application/javascript": [
       "\n",
       "        if (window._pyforest_update_imports_cell) { window._pyforest_update_imports_cell('import numpy as np\\nimport pandas as pd'); }\n",
       "    "
      ],
      "text/plain": [
       "<IPython.core.display.Javascript object>"
      ]
     },
     "metadata": {},
     "output_type": "display_data"
    },
    {
     "data": {
      "application/javascript": [
       "\n",
       "        if (window._pyforest_update_imports_cell) { window._pyforest_update_imports_cell('import numpy as np\\nimport pandas as pd'); }\n",
       "    "
      ],
      "text/plain": [
       "<IPython.core.display.Javascript object>"
      ]
     },
     "metadata": {},
     "output_type": "display_data"
    },
    {
     "data": {
      "application/javascript": [
       "\n",
       "        if (window._pyforest_update_imports_cell) { window._pyforest_update_imports_cell('import numpy as np\\nimport pandas as pd'); }\n",
       "    "
      ],
      "text/plain": [
       "<IPython.core.display.Javascript object>"
      ]
     },
     "metadata": {},
     "output_type": "display_data"
    },
    {
     "data": {
      "application/javascript": [
       "\n",
       "        if (window._pyforest_update_imports_cell) { window._pyforest_update_imports_cell('import numpy as np\\nimport pandas as pd'); }\n",
       "    "
      ],
      "text/plain": [
       "<IPython.core.display.Javascript object>"
      ]
     },
     "metadata": {},
     "output_type": "display_data"
    },
    {
     "data": {
      "application/javascript": [
       "\n",
       "        if (window._pyforest_update_imports_cell) { window._pyforest_update_imports_cell('import numpy as np\\nimport pandas as pd'); }\n",
       "    "
      ],
      "text/plain": [
       "<IPython.core.display.Javascript object>"
      ]
     },
     "metadata": {},
     "output_type": "display_data"
    },
    {
     "data": {
      "application/javascript": [
       "\n",
       "        if (window._pyforest_update_imports_cell) { window._pyforest_update_imports_cell('import numpy as np\\nimport pandas as pd'); }\n",
       "    "
      ],
      "text/plain": [
       "<IPython.core.display.Javascript object>"
      ]
     },
     "metadata": {},
     "output_type": "display_data"
    },
    {
     "data": {
      "application/javascript": [
       "\n",
       "        if (window._pyforest_update_imports_cell) { window._pyforest_update_imports_cell('import numpy as np\\nimport pandas as pd'); }\n",
       "    "
      ],
      "text/plain": [
       "<IPython.core.display.Javascript object>"
      ]
     },
     "metadata": {},
     "output_type": "display_data"
    },
    {
     "data": {
      "application/javascript": [
       "\n",
       "        if (window._pyforest_update_imports_cell) { window._pyforest_update_imports_cell('import numpy as np\\nimport pandas as pd'); }\n",
       "    "
      ],
      "text/plain": [
       "<IPython.core.display.Javascript object>"
      ]
     },
     "metadata": {},
     "output_type": "display_data"
    },
    {
     "data": {
      "application/javascript": [
       "\n",
       "        if (window._pyforest_update_imports_cell) { window._pyforest_update_imports_cell('import numpy as np\\nimport pandas as pd'); }\n",
       "    "
      ],
      "text/plain": [
       "<IPython.core.display.Javascript object>"
      ]
     },
     "metadata": {},
     "output_type": "display_data"
    },
    {
     "data": {
      "application/javascript": [
       "\n",
       "        if (window._pyforest_update_imports_cell) { window._pyforest_update_imports_cell('import numpy as np\\nimport pandas as pd'); }\n",
       "    "
      ],
      "text/plain": [
       "<IPython.core.display.Javascript object>"
      ]
     },
     "metadata": {},
     "output_type": "display_data"
    },
    {
     "data": {
      "application/javascript": [
       "\n",
       "        if (window._pyforest_update_imports_cell) { window._pyforest_update_imports_cell('import numpy as np\\nimport pandas as pd'); }\n",
       "    "
      ],
      "text/plain": [
       "<IPython.core.display.Javascript object>"
      ]
     },
     "metadata": {},
     "output_type": "display_data"
    },
    {
     "data": {
      "application/javascript": [
       "\n",
       "        if (window._pyforest_update_imports_cell) { window._pyforest_update_imports_cell('import numpy as np\\nimport pandas as pd'); }\n",
       "    "
      ],
      "text/plain": [
       "<IPython.core.display.Javascript object>"
      ]
     },
     "metadata": {},
     "output_type": "display_data"
    },
    {
     "data": {
      "application/javascript": [
       "\n",
       "        if (window._pyforest_update_imports_cell) { window._pyforest_update_imports_cell('import numpy as np\\nimport pandas as pd'); }\n",
       "    "
      ],
      "text/plain": [
       "<IPython.core.display.Javascript object>"
      ]
     },
     "metadata": {},
     "output_type": "display_data"
    },
    {
     "data": {
      "application/javascript": [
       "\n",
       "        if (window._pyforest_update_imports_cell) { window._pyforest_update_imports_cell('import numpy as np\\nimport pandas as pd'); }\n",
       "    "
      ],
      "text/plain": [
       "<IPython.core.display.Javascript object>"
      ]
     },
     "metadata": {},
     "output_type": "display_data"
    },
    {
     "data": {
      "application/javascript": [
       "\n",
       "        if (window._pyforest_update_imports_cell) { window._pyforest_update_imports_cell('import numpy as np\\nimport pandas as pd'); }\n",
       "    "
      ],
      "text/plain": [
       "<IPython.core.display.Javascript object>"
      ]
     },
     "metadata": {},
     "output_type": "display_data"
    },
    {
     "data": {
      "application/javascript": [
       "\n",
       "        if (window._pyforest_update_imports_cell) { window._pyforest_update_imports_cell('import numpy as np\\nimport pandas as pd'); }\n",
       "    "
      ],
      "text/plain": [
       "<IPython.core.display.Javascript object>"
      ]
     },
     "metadata": {},
     "output_type": "display_data"
    },
    {
     "data": {
      "application/javascript": [
       "\n",
       "        if (window._pyforest_update_imports_cell) { window._pyforest_update_imports_cell('import numpy as np\\nimport pandas as pd'); }\n",
       "    "
      ],
      "text/plain": [
       "<IPython.core.display.Javascript object>"
      ]
     },
     "metadata": {},
     "output_type": "display_data"
    },
    {
     "data": {
      "application/javascript": [
       "\n",
       "        if (window._pyforest_update_imports_cell) { window._pyforest_update_imports_cell('import numpy as np\\nimport pandas as pd'); }\n",
       "    "
      ],
      "text/plain": [
       "<IPython.core.display.Javascript object>"
      ]
     },
     "metadata": {},
     "output_type": "display_data"
    },
    {
     "data": {
      "application/javascript": [
       "\n",
       "        if (window._pyforest_update_imports_cell) { window._pyforest_update_imports_cell('import numpy as np\\nimport pandas as pd'); }\n",
       "    "
      ],
      "text/plain": [
       "<IPython.core.display.Javascript object>"
      ]
     },
     "metadata": {},
     "output_type": "display_data"
    },
    {
     "data": {
      "application/javascript": [
       "\n",
       "        if (window._pyforest_update_imports_cell) { window._pyforest_update_imports_cell('import numpy as np\\nimport pandas as pd'); }\n",
       "    "
      ],
      "text/plain": [
       "<IPython.core.display.Javascript object>"
      ]
     },
     "metadata": {},
     "output_type": "display_data"
    },
    {
     "data": {
      "application/javascript": [
       "\n",
       "        if (window._pyforest_update_imports_cell) { window._pyforest_update_imports_cell('import numpy as np\\nimport pandas as pd'); }\n",
       "    "
      ],
      "text/plain": [
       "<IPython.core.display.Javascript object>"
      ]
     },
     "metadata": {},
     "output_type": "display_data"
    },
    {
     "data": {
      "application/javascript": [
       "\n",
       "        if (window._pyforest_update_imports_cell) { window._pyforest_update_imports_cell('import numpy as np\\nimport pandas as pd'); }\n",
       "    "
      ],
      "text/plain": [
       "<IPython.core.display.Javascript object>"
      ]
     },
     "metadata": {},
     "output_type": "display_data"
    },
    {
     "data": {
      "application/javascript": [
       "\n",
       "        if (window._pyforest_update_imports_cell) { window._pyforest_update_imports_cell('import numpy as np\\nimport pandas as pd'); }\n",
       "    "
      ],
      "text/plain": [
       "<IPython.core.display.Javascript object>"
      ]
     },
     "metadata": {},
     "output_type": "display_data"
    },
    {
     "data": {
      "application/javascript": [
       "\n",
       "        if (window._pyforest_update_imports_cell) { window._pyforest_update_imports_cell('import numpy as np\\nimport pandas as pd'); }\n",
       "    "
      ],
      "text/plain": [
       "<IPython.core.display.Javascript object>"
      ]
     },
     "metadata": {},
     "output_type": "display_data"
    },
    {
     "data": {
      "application/javascript": [
       "\n",
       "        if (window._pyforest_update_imports_cell) { window._pyforest_update_imports_cell('import numpy as np\\nimport pandas as pd'); }\n",
       "    "
      ],
      "text/plain": [
       "<IPython.core.display.Javascript object>"
      ]
     },
     "metadata": {},
     "output_type": "display_data"
    },
    {
     "data": {
      "application/javascript": [
       "\n",
       "        if (window._pyforest_update_imports_cell) { window._pyforest_update_imports_cell('import numpy as np\\nimport pandas as pd'); }\n",
       "    "
      ],
      "text/plain": [
       "<IPython.core.display.Javascript object>"
      ]
     },
     "metadata": {},
     "output_type": "display_data"
    },
    {
     "data": {
      "application/javascript": [
       "\n",
       "        if (window._pyforest_update_imports_cell) { window._pyforest_update_imports_cell('import numpy as np\\nimport pandas as pd'); }\n",
       "    "
      ],
      "text/plain": [
       "<IPython.core.display.Javascript object>"
      ]
     },
     "metadata": {},
     "output_type": "display_data"
    },
    {
     "name": "stderr",
     "output_type": "stream",
     "text": [
      "C:\\Users\\moon  comp\\AppData\\Local\\Temp\\ipykernel_392\\951334193.py:1: SettingWithCopyWarning: \n",
      "A value is trying to be set on a copy of a slice from a DataFrame.\n",
      "Try using .loc[row_indexer,col_indexer] = value instead\n",
      "\n",
      "See the caveats in the documentation: https://pandas.pydata.org/pandas-docs/stable/user_guide/indexing.html#returning-a-view-versus-a-copy\n",
      "  df_2018['actor_3_name'] = df_2018['Cast and crew'].map(lambda x: get_actor3(x))\n"
     ]
    },
    {
     "data": {
      "application/javascript": [
       "\n",
       "        if (window._pyforest_update_imports_cell) { window._pyforest_update_imports_cell('import numpy as np\\nimport pandas as pd'); }\n",
       "    "
      ],
      "text/plain": [
       "<IPython.core.display.Javascript object>"
      ]
     },
     "metadata": {},
     "output_type": "display_data"
    },
    {
     "data": {
      "application/javascript": [
       "\n",
       "        if (window._pyforest_update_imports_cell) { window._pyforest_update_imports_cell('import numpy as np\\nimport pandas as pd'); }\n",
       "    "
      ],
      "text/plain": [
       "<IPython.core.display.Javascript object>"
      ]
     },
     "metadata": {},
     "output_type": "display_data"
    },
    {
     "data": {
      "application/javascript": [
       "\n",
       "        if (window._pyforest_update_imports_cell) { window._pyforest_update_imports_cell('import numpy as np\\nimport pandas as pd'); }\n",
       "    "
      ],
      "text/plain": [
       "<IPython.core.display.Javascript object>"
      ]
     },
     "metadata": {},
     "output_type": "display_data"
    },
    {
     "data": {
      "application/javascript": [
       "\n",
       "        if (window._pyforest_update_imports_cell) { window._pyforest_update_imports_cell('import numpy as np\\nimport pandas as pd'); }\n",
       "    "
      ],
      "text/plain": [
       "<IPython.core.display.Javascript object>"
      ]
     },
     "metadata": {},
     "output_type": "display_data"
    },
    {
     "data": {
      "application/javascript": [
       "\n",
       "        if (window._pyforest_update_imports_cell) { window._pyforest_update_imports_cell('import numpy as np\\nimport pandas as pd'); }\n",
       "    "
      ],
      "text/plain": [
       "<IPython.core.display.Javascript object>"
      ]
     },
     "metadata": {},
     "output_type": "display_data"
    },
    {
     "data": {
      "application/javascript": [
       "\n",
       "        if (window._pyforest_update_imports_cell) { window._pyforest_update_imports_cell('import numpy as np\\nimport pandas as pd'); }\n",
       "    "
      ],
      "text/plain": [
       "<IPython.core.display.Javascript object>"
      ]
     },
     "metadata": {},
     "output_type": "display_data"
    },
    {
     "data": {
      "application/javascript": [
       "\n",
       "        if (window._pyforest_update_imports_cell) { window._pyforest_update_imports_cell('import numpy as np\\nimport pandas as pd'); }\n",
       "    "
      ],
      "text/plain": [
       "<IPython.core.display.Javascript object>"
      ]
     },
     "metadata": {},
     "output_type": "display_data"
    },
    {
     "data": {
      "application/javascript": [
       "\n",
       "        if (window._pyforest_update_imports_cell) { window._pyforest_update_imports_cell('import numpy as np\\nimport pandas as pd'); }\n",
       "    "
      ],
      "text/plain": [
       "<IPython.core.display.Javascript object>"
      ]
     },
     "metadata": {},
     "output_type": "display_data"
    },
    {
     "data": {
      "application/javascript": [
       "\n",
       "        if (window._pyforest_update_imports_cell) { window._pyforest_update_imports_cell('import numpy as np\\nimport pandas as pd'); }\n",
       "    "
      ],
      "text/plain": [
       "<IPython.core.display.Javascript object>"
      ]
     },
     "metadata": {},
     "output_type": "display_data"
    },
    {
     "data": {
      "application/javascript": [
       "\n",
       "        if (window._pyforest_update_imports_cell) { window._pyforest_update_imports_cell('import numpy as np\\nimport pandas as pd'); }\n",
       "    "
      ],
      "text/plain": [
       "<IPython.core.display.Javascript object>"
      ]
     },
     "metadata": {},
     "output_type": "display_data"
    }
   ],
   "source": [
    "df_2018['actor_3_name'] = df_2018['Cast and crew'].map(lambda x: get_actor3(x))\n",
    "df_2018['actor_2_name'] = df_2018['Cast and crew'].map(lambda x: get_actor2(x))\n",
    "df_2018['actor_1_name'] = df_2018['Cast and crew'].map(lambda x: get_actor1(x))"
   ]
  },
  {
   "cell_type": "code",
   "execution_count": 23,
   "id": "34679176",
   "metadata": {},
   "outputs": [],
   "source": [
    "df_2018 = df_2018.rename(columns={'Title':'movie_title'})"
   ]
  },
  {
   "cell_type": "code",
   "execution_count": 21,
   "id": "b72af04b",
   "metadata": {},
   "outputs": [
    {
     "data": {
      "text/html": [
       "<div>\n",
       "<style scoped>\n",
       "    .dataframe tbody tr th:only-of-type {\n",
       "        vertical-align: middle;\n",
       "    }\n",
       "\n",
       "    .dataframe tbody tr th {\n",
       "        vertical-align: top;\n",
       "    }\n",
       "\n",
       "    .dataframe thead th {\n",
       "        text-align: right;\n",
       "    }\n",
       "</style>\n",
       "<table border=\"1\" class=\"dataframe\">\n",
       "  <thead>\n",
       "    <tr style=\"text-align: right;\">\n",
       "      <th></th>\n",
       "      <th>Title</th>\n",
       "      <th>Cast and crew</th>\n",
       "      <th>genres</th>\n",
       "      <th>director_name</th>\n",
       "      <th>actor_3_name</th>\n",
       "      <th>actor_2_name</th>\n",
       "      <th>actor_1_name</th>\n",
       "    </tr>\n",
       "  </thead>\n",
       "  <tbody>\n",
       "    <tr>\n",
       "      <th>0</th>\n",
       "      <td>Insidious: The Last Key</td>\n",
       "      <td>Adam Robitel (director); Leigh Whannell (scree...</td>\n",
       "      <td>Horror Mystery Thriller</td>\n",
       "      <td>Adam Robitel</td>\n",
       "      <td>Leigh Whannell</td>\n",
       "      <td>Angus Sampson</td>\n",
       "      <td>Lin Shaye</td>\n",
       "    </tr>\n",
       "    <tr>\n",
       "      <th>1</th>\n",
       "      <td>The Strange Ones</td>\n",
       "      <td>Lauren Wolkstein (director); Christopher Radcl...</td>\n",
       "      <td>Thriller Drama</td>\n",
       "      <td>Lauren Wolkstein</td>\n",
       "      <td>Emily Althaus</td>\n",
       "      <td>James Freedson-Jackson</td>\n",
       "      <td>Alex Pettyfer</td>\n",
       "    </tr>\n",
       "    <tr>\n",
       "      <th>2</th>\n",
       "      <td>Stratton</td>\n",
       "      <td>Simon West (director); Duncan Falconer, Warren...</td>\n",
       "      <td>Action Thriller</td>\n",
       "      <td>Simon West</td>\n",
       "      <td>Gemma Chan</td>\n",
       "      <td>Austin Stowell</td>\n",
       "      <td>Dominic Cooper</td>\n",
       "    </tr>\n",
       "    <tr>\n",
       "      <th>3</th>\n",
       "      <td>Sweet Country</td>\n",
       "      <td>Warwick Thornton (director); David Tranter, St...</td>\n",
       "      <td>Western Crime Thriller Drama</td>\n",
       "      <td>Warwick Thornton</td>\n",
       "      <td>NaN</td>\n",
       "      <td>Sam Neill</td>\n",
       "      <td>Bryan Brown</td>\n",
       "    </tr>\n",
       "    <tr>\n",
       "      <th>4</th>\n",
       "      <td>The Commuter</td>\n",
       "      <td>Jaume Collet-Serra (director); Byron Willinger...</td>\n",
       "      <td>Action Thriller Mystery</td>\n",
       "      <td>Jaume Collet-Serra</td>\n",
       "      <td>Patrick Wilson</td>\n",
       "      <td>Vera Farmiga</td>\n",
       "      <td>Liam Neeson</td>\n",
       "    </tr>\n",
       "    <tr>\n",
       "      <th>...</th>\n",
       "      <td>...</td>\n",
       "      <td>...</td>\n",
       "      <td>...</td>\n",
       "      <td>...</td>\n",
       "      <td>...</td>\n",
       "      <td>...</td>\n",
       "      <td>...</td>\n",
       "    </tr>\n",
       "    <tr>\n",
       "      <th>269</th>\n",
       "      <td>Holmes &amp; Watson</td>\n",
       "      <td>Etan Cohen (director/screenplay); Will Ferrell...</td>\n",
       "      <td>Mystery Adventure Comedy Crime</td>\n",
       "      <td>Etan Cohen</td>\n",
       "      <td>Rebecca Hall</td>\n",
       "      <td>John C. Reilly</td>\n",
       "      <td>Will Ferrell</td>\n",
       "    </tr>\n",
       "    <tr>\n",
       "      <th>270</th>\n",
       "      <td>Vice</td>\n",
       "      <td>Adam McKay (director/screenplay); Christian Ba...</td>\n",
       "      <td>Thriller Science Fiction Action Adventure</td>\n",
       "      <td>Adam McKay</td>\n",
       "      <td>Steve Carell</td>\n",
       "      <td>Amy Adams</td>\n",
       "      <td>Christian Bale</td>\n",
       "    </tr>\n",
       "    <tr>\n",
       "      <th>271</th>\n",
       "      <td>On the Basis of Sex</td>\n",
       "      <td>Mimi Leder (director); Daniel Stiepleman (scre...</td>\n",
       "      <td>Drama History</td>\n",
       "      <td>Mimi Leder</td>\n",
       "      <td>Justin Theroux</td>\n",
       "      <td>Armie Hammer</td>\n",
       "      <td>Felicity Jones</td>\n",
       "    </tr>\n",
       "    <tr>\n",
       "      <th>272</th>\n",
       "      <td>Destroyer</td>\n",
       "      <td>Karyn Kusama (director); Phil Hay, Matt Manfre...</td>\n",
       "      <td>Thriller Crime Drama Action</td>\n",
       "      <td>Karyn Kusama</td>\n",
       "      <td>Toby Kebbell</td>\n",
       "      <td>Sebastian Stan</td>\n",
       "      <td>Nicole Kidman</td>\n",
       "    </tr>\n",
       "    <tr>\n",
       "      <th>273</th>\n",
       "      <td>Black Mirror: Bandersnatch</td>\n",
       "      <td>David Slade (director); Charlie Brooker (scree...</td>\n",
       "      <td>Science Fiction Mystery Drama Thriller TV Movie</td>\n",
       "      <td>David Slade</td>\n",
       "      <td>Asim Chaudhry</td>\n",
       "      <td>Will Poulter</td>\n",
       "      <td>Fionn Whitehead</td>\n",
       "    </tr>\n",
       "  </tbody>\n",
       "</table>\n",
       "<p>274 rows × 7 columns</p>\n",
       "</div>"
      ],
      "text/plain": [
       "                          Title  \\\n",
       "0       Insidious: The Last Key   \n",
       "1              The Strange Ones   \n",
       "2                      Stratton   \n",
       "3                 Sweet Country   \n",
       "4                  The Commuter   \n",
       "..                          ...   \n",
       "269             Holmes & Watson   \n",
       "270                        Vice   \n",
       "271         On the Basis of Sex   \n",
       "272                   Destroyer   \n",
       "273  Black Mirror: Bandersnatch   \n",
       "\n",
       "                                         Cast and crew  \\\n",
       "0    Adam Robitel (director); Leigh Whannell (scree...   \n",
       "1    Lauren Wolkstein (director); Christopher Radcl...   \n",
       "2    Simon West (director); Duncan Falconer, Warren...   \n",
       "3    Warwick Thornton (director); David Tranter, St...   \n",
       "4    Jaume Collet-Serra (director); Byron Willinger...   \n",
       "..                                                 ...   \n",
       "269  Etan Cohen (director/screenplay); Will Ferrell...   \n",
       "270  Adam McKay (director/screenplay); Christian Ba...   \n",
       "271  Mimi Leder (director); Daniel Stiepleman (scre...   \n",
       "272  Karyn Kusama (director); Phil Hay, Matt Manfre...   \n",
       "273  David Slade (director); Charlie Brooker (scree...   \n",
       "\n",
       "                                              genres       director_name  \\\n",
       "0                            Horror Mystery Thriller        Adam Robitel   \n",
       "1                                     Thriller Drama    Lauren Wolkstein   \n",
       "2                                    Action Thriller          Simon West   \n",
       "3                       Western Crime Thriller Drama    Warwick Thornton   \n",
       "4                            Action Thriller Mystery  Jaume Collet-Serra   \n",
       "..                                               ...                 ...   \n",
       "269                   Mystery Adventure Comedy Crime          Etan Cohen   \n",
       "270        Thriller Science Fiction Action Adventure          Adam McKay   \n",
       "271                                    Drama History          Mimi Leder   \n",
       "272                      Thriller Crime Drama Action        Karyn Kusama   \n",
       "273  Science Fiction Mystery Drama Thriller TV Movie         David Slade   \n",
       "\n",
       "       actor_3_name            actor_2_name     actor_1_name  \n",
       "0    Leigh Whannell           Angus Sampson        Lin Shaye  \n",
       "1     Emily Althaus  James Freedson-Jackson    Alex Pettyfer  \n",
       "2        Gemma Chan          Austin Stowell   Dominic Cooper  \n",
       "3               NaN               Sam Neill      Bryan Brown  \n",
       "4    Patrick Wilson            Vera Farmiga      Liam Neeson  \n",
       "..              ...                     ...              ...  \n",
       "269    Rebecca Hall          John C. Reilly     Will Ferrell  \n",
       "270    Steve Carell               Amy Adams   Christian Bale  \n",
       "271  Justin Theroux            Armie Hammer   Felicity Jones  \n",
       "272    Toby Kebbell          Sebastian Stan    Nicole Kidman  \n",
       "273   Asim Chaudhry            Will Poulter  Fionn Whitehead  \n",
       "\n",
       "[274 rows x 7 columns]"
      ]
     },
     "execution_count": 21,
     "metadata": {},
     "output_type": "execute_result"
    }
   ],
   "source": [
    "df_2018"
   ]
  },
  {
   "cell_type": "code",
   "execution_count": 24,
   "id": "0a97cbbd",
   "metadata": {},
   "outputs": [],
   "source": [
    "new_df18 = df_2018.loc[:,['director_name','actor_1_name','actor_2_name','actor_3_name','genres','movie_title']]"
   ]
  },
  {
   "cell_type": "code",
   "execution_count": 25,
   "id": "f0328419",
   "metadata": {},
   "outputs": [
    {
     "data": {
      "text/plain": [
       "director_name     0\n",
       "actor_1_name      0\n",
       "actor_2_name     10\n",
       "actor_3_name     27\n",
       "genres            2\n",
       "movie_title       0\n",
       "dtype: int64"
      ]
     },
     "execution_count": 25,
     "metadata": {},
     "output_type": "execute_result"
    }
   ],
   "source": [
    "new_df18.isna().sum()"
   ]
  },
  {
   "cell_type": "code",
   "execution_count": 27,
   "id": "b3961106",
   "metadata": {},
   "outputs": [
    {
     "name": "stderr",
     "output_type": "stream",
     "text": [
      "C:\\Users\\moon  comp\\AppData\\Local\\Temp\\ipykernel_392\\2726977275.py:1: SettingWithCopyWarning: \n",
      "A value is trying to be set on a copy of a slice from a DataFrame\n",
      "\n",
      "See the caveats in the documentation: https://pandas.pydata.org/pandas-docs/stable/user_guide/indexing.html#returning-a-view-versus-a-copy\n",
      "  new_df18[['actor_2_name','actor_3_name']].fillna('unknown',inplace=True)\n"
     ]
    }
   ],
   "source": [
    "new_df18[['actor_2_name','actor_3_name']].fillna('unknown',inplace=True)"
   ]
  },
  {
   "cell_type": "code",
   "execution_count": 28,
   "id": "607867be",
   "metadata": {},
   "outputs": [],
   "source": [
    "new_df18['movie_title'] = new_df18['movie_title'].str.lower()\n"
   ]
  },
  {
   "cell_type": "code",
   "execution_count": 29,
   "id": "7ec72994",
   "metadata": {},
   "outputs": [
    {
     "data": {
      "text/html": [
       "<div>\n",
       "<style scoped>\n",
       "    .dataframe tbody tr th:only-of-type {\n",
       "        vertical-align: middle;\n",
       "    }\n",
       "\n",
       "    .dataframe tbody tr th {\n",
       "        vertical-align: top;\n",
       "    }\n",
       "\n",
       "    .dataframe thead th {\n",
       "        text-align: right;\n",
       "    }\n",
       "</style>\n",
       "<table border=\"1\" class=\"dataframe\">\n",
       "  <thead>\n",
       "    <tr style=\"text-align: right;\">\n",
       "      <th></th>\n",
       "      <th>director_name</th>\n",
       "      <th>actor_1_name</th>\n",
       "      <th>actor_2_name</th>\n",
       "      <th>actor_3_name</th>\n",
       "      <th>genres</th>\n",
       "      <th>movie_title</th>\n",
       "      <th>comb</th>\n",
       "    </tr>\n",
       "  </thead>\n",
       "  <tbody>\n",
       "    <tr>\n",
       "      <th>0</th>\n",
       "      <td>Adam Robitel</td>\n",
       "      <td>Lin Shaye</td>\n",
       "      <td>Angus Sampson</td>\n",
       "      <td>Leigh Whannell</td>\n",
       "      <td>Horror Mystery Thriller</td>\n",
       "      <td>insidious: the last key</td>\n",
       "      <td>Lin Shaye Angus Sampson Leigh Whannell Adam Ro...</td>\n",
       "    </tr>\n",
       "    <tr>\n",
       "      <th>1</th>\n",
       "      <td>Lauren Wolkstein</td>\n",
       "      <td>Alex Pettyfer</td>\n",
       "      <td>James Freedson-Jackson</td>\n",
       "      <td>Emily Althaus</td>\n",
       "      <td>Thriller Drama</td>\n",
       "      <td>the strange ones</td>\n",
       "      <td>Alex Pettyfer James Freedson-Jackson Emily Alt...</td>\n",
       "    </tr>\n",
       "    <tr>\n",
       "      <th>2</th>\n",
       "      <td>Simon West</td>\n",
       "      <td>Dominic Cooper</td>\n",
       "      <td>Austin Stowell</td>\n",
       "      <td>Gemma Chan</td>\n",
       "      <td>Action Thriller</td>\n",
       "      <td>stratton</td>\n",
       "      <td>Dominic Cooper Austin Stowell Gemma Chan Simon...</td>\n",
       "    </tr>\n",
       "    <tr>\n",
       "      <th>3</th>\n",
       "      <td>Warwick Thornton</td>\n",
       "      <td>Bryan Brown</td>\n",
       "      <td>Sam Neill</td>\n",
       "      <td>NaN</td>\n",
       "      <td>Western Crime Thriller Drama</td>\n",
       "      <td>sweet country</td>\n",
       "      <td>NaN</td>\n",
       "    </tr>\n",
       "    <tr>\n",
       "      <th>4</th>\n",
       "      <td>Jaume Collet-Serra</td>\n",
       "      <td>Liam Neeson</td>\n",
       "      <td>Vera Farmiga</td>\n",
       "      <td>Patrick Wilson</td>\n",
       "      <td>Action Thriller Mystery</td>\n",
       "      <td>the commuter</td>\n",
       "      <td>Liam Neeson Vera Farmiga Patrick Wilson Jaume ...</td>\n",
       "    </tr>\n",
       "    <tr>\n",
       "      <th>...</th>\n",
       "      <td>...</td>\n",
       "      <td>...</td>\n",
       "      <td>...</td>\n",
       "      <td>...</td>\n",
       "      <td>...</td>\n",
       "      <td>...</td>\n",
       "      <td>...</td>\n",
       "    </tr>\n",
       "    <tr>\n",
       "      <th>269</th>\n",
       "      <td>Etan Cohen</td>\n",
       "      <td>Will Ferrell</td>\n",
       "      <td>John C. Reilly</td>\n",
       "      <td>Rebecca Hall</td>\n",
       "      <td>Mystery Adventure Comedy Crime</td>\n",
       "      <td>holmes &amp; watson</td>\n",
       "      <td>Will Ferrell John C. Reilly Rebecca Hall Etan ...</td>\n",
       "    </tr>\n",
       "    <tr>\n",
       "      <th>270</th>\n",
       "      <td>Adam McKay</td>\n",
       "      <td>Christian Bale</td>\n",
       "      <td>Amy Adams</td>\n",
       "      <td>Steve Carell</td>\n",
       "      <td>Thriller Science Fiction Action Adventure</td>\n",
       "      <td>vice</td>\n",
       "      <td>Christian Bale Amy Adams Steve Carell Adam McK...</td>\n",
       "    </tr>\n",
       "    <tr>\n",
       "      <th>271</th>\n",
       "      <td>Mimi Leder</td>\n",
       "      <td>Felicity Jones</td>\n",
       "      <td>Armie Hammer</td>\n",
       "      <td>Justin Theroux</td>\n",
       "      <td>Drama History</td>\n",
       "      <td>on the basis of sex</td>\n",
       "      <td>Felicity Jones Armie Hammer Justin Theroux Mim...</td>\n",
       "    </tr>\n",
       "    <tr>\n",
       "      <th>272</th>\n",
       "      <td>Karyn Kusama</td>\n",
       "      <td>Nicole Kidman</td>\n",
       "      <td>Sebastian Stan</td>\n",
       "      <td>Toby Kebbell</td>\n",
       "      <td>Thriller Crime Drama Action</td>\n",
       "      <td>destroyer</td>\n",
       "      <td>Nicole Kidman Sebastian Stan Toby Kebbell Kary...</td>\n",
       "    </tr>\n",
       "    <tr>\n",
       "      <th>273</th>\n",
       "      <td>David Slade</td>\n",
       "      <td>Fionn Whitehead</td>\n",
       "      <td>Will Poulter</td>\n",
       "      <td>Asim Chaudhry</td>\n",
       "      <td>Science Fiction Mystery Drama Thriller TV Movie</td>\n",
       "      <td>black mirror: bandersnatch</td>\n",
       "      <td>Fionn Whitehead Will Poulter Asim Chaudhry Dav...</td>\n",
       "    </tr>\n",
       "  </tbody>\n",
       "</table>\n",
       "<p>274 rows × 7 columns</p>\n",
       "</div>"
      ],
      "text/plain": [
       "          director_name     actor_1_name            actor_2_name  \\\n",
       "0          Adam Robitel        Lin Shaye           Angus Sampson   \n",
       "1      Lauren Wolkstein    Alex Pettyfer  James Freedson-Jackson   \n",
       "2            Simon West   Dominic Cooper          Austin Stowell   \n",
       "3      Warwick Thornton      Bryan Brown               Sam Neill   \n",
       "4    Jaume Collet-Serra      Liam Neeson            Vera Farmiga   \n",
       "..                  ...              ...                     ...   \n",
       "269          Etan Cohen     Will Ferrell          John C. Reilly   \n",
       "270          Adam McKay   Christian Bale               Amy Adams   \n",
       "271          Mimi Leder   Felicity Jones            Armie Hammer   \n",
       "272        Karyn Kusama    Nicole Kidman          Sebastian Stan   \n",
       "273         David Slade  Fionn Whitehead            Will Poulter   \n",
       "\n",
       "       actor_3_name                                           genres  \\\n",
       "0    Leigh Whannell                          Horror Mystery Thriller   \n",
       "1     Emily Althaus                                   Thriller Drama   \n",
       "2        Gemma Chan                                  Action Thriller   \n",
       "3               NaN                     Western Crime Thriller Drama   \n",
       "4    Patrick Wilson                          Action Thriller Mystery   \n",
       "..              ...                                              ...   \n",
       "269    Rebecca Hall                   Mystery Adventure Comedy Crime   \n",
       "270    Steve Carell        Thriller Science Fiction Action Adventure   \n",
       "271  Justin Theroux                                    Drama History   \n",
       "272    Toby Kebbell                      Thriller Crime Drama Action   \n",
       "273   Asim Chaudhry  Science Fiction Mystery Drama Thriller TV Movie   \n",
       "\n",
       "                    movie_title  \\\n",
       "0       insidious: the last key   \n",
       "1              the strange ones   \n",
       "2                      stratton   \n",
       "3                 sweet country   \n",
       "4                  the commuter   \n",
       "..                          ...   \n",
       "269             holmes & watson   \n",
       "270                        vice   \n",
       "271         on the basis of sex   \n",
       "272                   destroyer   \n",
       "273  black mirror: bandersnatch   \n",
       "\n",
       "                                                  comb  \n",
       "0    Lin Shaye Angus Sampson Leigh Whannell Adam Ro...  \n",
       "1    Alex Pettyfer James Freedson-Jackson Emily Alt...  \n",
       "2    Dominic Cooper Austin Stowell Gemma Chan Simon...  \n",
       "3                                                  NaN  \n",
       "4    Liam Neeson Vera Farmiga Patrick Wilson Jaume ...  \n",
       "..                                                 ...  \n",
       "269  Will Ferrell John C. Reilly Rebecca Hall Etan ...  \n",
       "270  Christian Bale Amy Adams Steve Carell Adam McK...  \n",
       "271  Felicity Jones Armie Hammer Justin Theroux Mim...  \n",
       "272  Nicole Kidman Sebastian Stan Toby Kebbell Kary...  \n",
       "273  Fionn Whitehead Will Poulter Asim Chaudhry Dav...  \n",
       "\n",
       "[274 rows x 7 columns]"
      ]
     },
     "execution_count": 29,
     "metadata": {},
     "output_type": "execute_result"
    }
   ],
   "source": [
    "new_df18['comb'] = new_df18['actor_1_name'] + ' ' + new_df18['actor_2_name'] + ' '+ new_df18['actor_3_name'] + ' '+ new_df18['director_name'] +' ' + new_df18['genres']\n",
    "new_df18"
   ]
  },
  {
   "cell_type": "markdown",
   "id": "f50c27b1",
   "metadata": {},
   "source": [
    "**Data 2019**"
   ]
  },
  {
   "cell_type": "code",
   "execution_count": null,
   "id": "d55ce7d8",
   "metadata": {},
   "outputs": [],
   "source": [
    "link = \"https://en.wikipedia.org/wiki/List_of_American_films_of_2019\"\n",
    "df1 = pd.read_html(link, header=0)[2]\n",
    "df2 = pd.read_html(link, header=0)[3]\n",
    "df3 = pd.read_html(link, header=0)[4]\n",
    "df4 = pd.read_html(link, header=0)[5]\n",
    "df=df1.append(df2.append(df3.append(df4,ignore_index=True),ignore_index=True),ignore_index=True)\n",
    "df"
   ]
  },
  {
   "cell_type": "code",
   "execution_count": null,
   "id": "1f4c01a7",
   "metadata": {},
   "outputs": [],
   "source": [
    "df.drop(['.mw-parser-output .tooltip-dotted{border-bottom:1px dotted;cursor:help}Ref.','Ref.'],axis=1,inplace=True)"
   ]
  },
  {
   "cell_type": "code",
   "execution_count": null,
   "id": "7f40df13",
   "metadata": {},
   "outputs": [],
   "source": [
    "df['genres'] = df['Title'].map(lambda x: get_genre(str(x)))\n",
    "df"
   ]
  },
  {
   "cell_type": "code",
   "execution_count": null,
   "id": "fbdd0511",
   "metadata": {},
   "outputs": [],
   "source": [
    "df_2019 = df[['Title','Cast and crew','genres']]\n",
    "df_2019"
   ]
  },
  {
   "cell_type": "code",
   "execution_count": null,
   "id": "ec52701a",
   "metadata": {},
   "outputs": [],
   "source": [
    "df_2019['director_name'] = df_2018['Cast and crew'].map(lambda x: get_director(x))"
   ]
  },
  {
   "cell_type": "code",
   "execution_count": null,
   "id": "5db715f6",
   "metadata": {},
   "outputs": [],
   "source": [
    "df_2019['actor_3_name'] = df_2018['Cast and crew'].map(lambda x: get_actor3(x))\n",
    "df_2019['actor_2_name'] = df_2018['Cast and crew'].map(lambda x: get_actor2(x))\n",
    "df_2019['actor_1_name'] = df_2018['Cast and crew'].map(lambda x: get_actor1(x))"
   ]
  },
  {
   "cell_type": "code",
   "execution_count": null,
   "id": "152f1420",
   "metadata": {},
   "outputs": [],
   "source": [
    "df_2018 = df_2019.rename(columns={'Title':'movie_title'})\n",
    "new_df18 = df_2019.loc[:,['director_name','actor_1_name','actor_2_name','actor_3_name','genres','movie_title']"
   ]
  },
  {
   "cell_type": "code",
   "execution_count": null,
   "id": "95c86799",
   "metadata": {},
   "outputs": [],
   "source": [
    "new_df19[['actor_1_name','actor_2_name','actor_3_name']].fillna('unknown',inplace=True)\n",
    "new_df19['movie_title'] = new_df18['movie_title'].str.lower()\n",
    "new_df19['comb'] = new_df18['actor_1_name'] + ' ' + new_df18['actor_2_name'] + ' '+ new_df18['actor_3_name'] + ' '+ new_df18['director_name'] +' ' + new_df18['genres']\n",
    "new_df19"
   ]
  }
 ],
 "metadata": {
  "kernelspec": {
   "display_name": "Python 3 (ipykernel)",
   "language": "python",
   "name": "python3"
  },
  "language_info": {
   "codemirror_mode": {
    "name": "ipython",
    "version": 3
   },
   "file_extension": ".py",
   "mimetype": "text/x-python",
   "name": "python",
   "nbconvert_exporter": "python",
   "pygments_lexer": "ipython3",
   "version": "3.9.12"
  }
 },
 "nbformat": 4,
 "nbformat_minor": 5
}
